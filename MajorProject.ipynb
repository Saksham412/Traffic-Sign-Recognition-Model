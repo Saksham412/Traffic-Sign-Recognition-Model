{
  "cells": [
    {
      "cell_type": "markdown",
      "id": "3e27123f",
      "metadata": {
        "id": "3e27123f"
      },
      "source": [
        "Name : Major Project"
      ]
    },
    {
      "cell_type": "markdown",
      "id": "a5842ea8",
      "metadata": {
        "id": "a5842ea8"
      },
      "source": [
        "College : Delhi Technological University"
      ]
    },
    {
      "cell_type": "markdown",
      "id": "9ddcca09",
      "metadata": {
        "id": "9ddcca09"
      },
      "source": [
        "# German traffic sign recognition benchmark"
      ]
    },
    {
      "cell_type": "markdown",
      "metadata": {},
      "source": []
    },
    {
      "cell_type": "code",
      "execution_count": null,
      "id": "7bfa6d40",
      "metadata": {
        "colab": {
          "base_uri": "https://localhost:8080/"
        },
        "id": "7bfa6d40",
        "outputId": "34805b5c-37a4-4377-f42f-d31c6f985cc3"
      },
      "outputs": [
        {
          "name": "stdout",
          "output_type": "stream",
          "text": [
            "Requirement already satisfied: numpy in /usr/local/lib/python3.10/dist-packages (1.23.5)\n"
          ]
        }
      ],
      "source": [
        "!pip install numpy"
      ]
    },
    {
      "cell_type": "code",
      "execution_count": null,
      "id": "5e26071b",
      "metadata": {
        "colab": {
          "base_uri": "https://localhost:8080/"
        },
        "id": "5e26071b",
        "outputId": "5cdf5fed-3171-4dd3-c0ed-42e8ed1eed71"
      },
      "outputs": [
        {
          "name": "stdout",
          "output_type": "stream",
          "text": [
            "Requirement already satisfied: matplotlib in /usr/local/lib/python3.10/dist-packages (3.7.1)\n",
            "Requirement already satisfied: contourpy>=1.0.1 in /usr/local/lib/python3.10/dist-packages (from matplotlib) (1.2.0)\n",
            "Requirement already satisfied: cycler>=0.10 in /usr/local/lib/python3.10/dist-packages (from matplotlib) (0.12.1)\n",
            "Requirement already satisfied: fonttools>=4.22.0 in /usr/local/lib/python3.10/dist-packages (from matplotlib) (4.46.0)\n",
            "Requirement already satisfied: kiwisolver>=1.0.1 in /usr/local/lib/python3.10/dist-packages (from matplotlib) (1.4.5)\n",
            "Requirement already satisfied: numpy>=1.20 in /usr/local/lib/python3.10/dist-packages (from matplotlib) (1.23.5)\n",
            "Requirement already satisfied: packaging>=20.0 in /usr/local/lib/python3.10/dist-packages (from matplotlib) (23.2)\n",
            "Requirement already satisfied: pillow>=6.2.0 in /usr/local/lib/python3.10/dist-packages (from matplotlib) (9.4.0)\n",
            "Requirement already satisfied: pyparsing>=2.3.1 in /usr/local/lib/python3.10/dist-packages (from matplotlib) (3.1.1)\n",
            "Requirement already satisfied: python-dateutil>=2.7 in /usr/local/lib/python3.10/dist-packages (from matplotlib) (2.8.2)\n",
            "Requirement already satisfied: six>=1.5 in /usr/local/lib/python3.10/dist-packages (from python-dateutil>=2.7->matplotlib) (1.16.0)\n"
          ]
        }
      ],
      "source": [
        "!pip install matplotlib"
      ]
    },
    {
      "cell_type": "code",
      "execution_count": null,
      "id": "6e653a59",
      "metadata": {
        "colab": {
          "base_uri": "https://localhost:8080/"
        },
        "id": "6e653a59",
        "outputId": "ca15ec01-dc48-414a-d0bf-a6623ca5ac67"
      },
      "outputs": [
        {
          "name": "stdout",
          "output_type": "stream",
          "text": [
            "Requirement already satisfied: pandas in /usr/local/lib/python3.10/dist-packages (1.5.3)\n",
            "Requirement already satisfied: python-dateutil>=2.8.1 in /usr/local/lib/python3.10/dist-packages (from pandas) (2.8.2)\n",
            "Requirement already satisfied: pytz>=2020.1 in /usr/local/lib/python3.10/dist-packages (from pandas) (2023.3.post1)\n",
            "Requirement already satisfied: numpy>=1.21.0 in /usr/local/lib/python3.10/dist-packages (from pandas) (1.23.5)\n",
            "Requirement already satisfied: six>=1.5 in /usr/local/lib/python3.10/dist-packages (from python-dateutil>=2.8.1->pandas) (1.16.0)\n"
          ]
        }
      ],
      "source": [
        "!pip install pandas"
      ]
    },
    {
      "cell_type": "code",
      "execution_count": null,
      "id": "6bd59eab",
      "metadata": {
        "colab": {
          "base_uri": "https://localhost:8080/"
        },
        "id": "6bd59eab",
        "outputId": "a982479d-8969-47db-ab79-bd1e4d3e0c72"
      },
      "outputs": [
        {
          "name": "stdout",
          "output_type": "stream",
          "text": [
            "Requirement already satisfied: pathlib in /usr/local/lib/python3.10/dist-packages (1.0.1)\n"
          ]
        }
      ],
      "source": [
        "!pip install pathlib"
      ]
    },
    {
      "cell_type": "code",
      "execution_count": null,
      "id": "a8739aa0",
      "metadata": {
        "colab": {
          "base_uri": "https://localhost:8080/"
        },
        "id": "a8739aa0",
        "outputId": "966212f6-9cd1-4baf-f24b-98ad3efd3b3d"
      },
      "outputs": [
        {
          "name": "stdout",
          "output_type": "stream",
          "text": [
            "Requirement already satisfied: keras in /usr/local/lib/python3.10/dist-packages (2.14.0)\n"
          ]
        }
      ],
      "source": [
        "!pip install keras"
      ]
    },
    {
      "cell_type": "code",
      "execution_count": null,
      "id": "6b4816bd",
      "metadata": {
        "colab": {
          "base_uri": "https://localhost:8080/"
        },
        "id": "6b4816bd",
        "outputId": "03db24b1-1564-4037-a681-e0c22917f58b"
      },
      "outputs": [
        {
          "name": "stdout",
          "output_type": "stream",
          "text": [
            "Requirement already satisfied: tensorflow in /usr/local/lib/python3.10/dist-packages (2.14.0)\n",
            "Requirement already satisfied: absl-py>=1.0.0 in /usr/local/lib/python3.10/dist-packages (from tensorflow) (1.4.0)\n",
            "Requirement already satisfied: astunparse>=1.6.0 in /usr/local/lib/python3.10/dist-packages (from tensorflow) (1.6.3)\n",
            "Requirement already satisfied: flatbuffers>=23.5.26 in /usr/local/lib/python3.10/dist-packages (from tensorflow) (23.5.26)\n",
            "Requirement already satisfied: gast!=0.5.0,!=0.5.1,!=0.5.2,>=0.2.1 in /usr/local/lib/python3.10/dist-packages (from tensorflow) (0.5.4)\n",
            "Requirement already satisfied: google-pasta>=0.1.1 in /usr/local/lib/python3.10/dist-packages (from tensorflow) (0.2.0)\n",
            "Requirement already satisfied: h5py>=2.9.0 in /usr/local/lib/python3.10/dist-packages (from tensorflow) (3.9.0)\n",
            "Requirement already satisfied: libclang>=13.0.0 in /usr/local/lib/python3.10/dist-packages (from tensorflow) (16.0.6)\n",
            "Requirement already satisfied: ml-dtypes==0.2.0 in /usr/local/lib/python3.10/dist-packages (from tensorflow) (0.2.0)\n",
            "Requirement already satisfied: numpy>=1.23.5 in /usr/local/lib/python3.10/dist-packages (from tensorflow) (1.23.5)\n",
            "Requirement already satisfied: opt-einsum>=2.3.2 in /usr/local/lib/python3.10/dist-packages (from tensorflow) (3.3.0)\n",
            "Requirement already satisfied: packaging in /usr/local/lib/python3.10/dist-packages (from tensorflow) (23.2)\n",
            "Requirement already satisfied: protobuf!=4.21.0,!=4.21.1,!=4.21.2,!=4.21.3,!=4.21.4,!=4.21.5,<5.0.0dev,>=3.20.3 in /usr/local/lib/python3.10/dist-packages (from tensorflow) (3.20.3)\n",
            "Requirement already satisfied: setuptools in /usr/local/lib/python3.10/dist-packages (from tensorflow) (67.7.2)\n",
            "Requirement already satisfied: six>=1.12.0 in /usr/local/lib/python3.10/dist-packages (from tensorflow) (1.16.0)\n",
            "Requirement already satisfied: termcolor>=1.1.0 in /usr/local/lib/python3.10/dist-packages (from tensorflow) (2.4.0)\n",
            "Requirement already satisfied: typing-extensions>=3.6.6 in /usr/local/lib/python3.10/dist-packages (from tensorflow) (4.5.0)\n",
            "Requirement already satisfied: wrapt<1.15,>=1.11.0 in /usr/local/lib/python3.10/dist-packages (from tensorflow) (1.14.1)\n",
            "Requirement already satisfied: tensorflow-io-gcs-filesystem>=0.23.1 in /usr/local/lib/python3.10/dist-packages (from tensorflow) (0.34.0)\n",
            "Requirement already satisfied: grpcio<2.0,>=1.24.3 in /usr/local/lib/python3.10/dist-packages (from tensorflow) (1.59.3)\n",
            "Requirement already satisfied: tensorboard<2.15,>=2.14 in /usr/local/lib/python3.10/dist-packages (from tensorflow) (2.14.1)\n",
            "Requirement already satisfied: tensorflow-estimator<2.15,>=2.14.0 in /usr/local/lib/python3.10/dist-packages (from tensorflow) (2.14.0)\n",
            "Requirement already satisfied: keras<2.15,>=2.14.0 in /usr/local/lib/python3.10/dist-packages (from tensorflow) (2.14.0)\n",
            "Requirement already satisfied: wheel<1.0,>=0.23.0 in /usr/local/lib/python3.10/dist-packages (from astunparse>=1.6.0->tensorflow) (0.42.0)\n",
            "Requirement already satisfied: google-auth<3,>=1.6.3 in /usr/local/lib/python3.10/dist-packages (from tensorboard<2.15,>=2.14->tensorflow) (2.17.3)\n",
            "Requirement already satisfied: google-auth-oauthlib<1.1,>=0.5 in /usr/local/lib/python3.10/dist-packages (from tensorboard<2.15,>=2.14->tensorflow) (1.0.0)\n",
            "Requirement already satisfied: markdown>=2.6.8 in /usr/local/lib/python3.10/dist-packages (from tensorboard<2.15,>=2.14->tensorflow) (3.5.1)\n",
            "Requirement already satisfied: requests<3,>=2.21.0 in /usr/local/lib/python3.10/dist-packages (from tensorboard<2.15,>=2.14->tensorflow) (2.31.0)\n",
            "Requirement already satisfied: tensorboard-data-server<0.8.0,>=0.7.0 in /usr/local/lib/python3.10/dist-packages (from tensorboard<2.15,>=2.14->tensorflow) (0.7.2)\n",
            "Requirement already satisfied: werkzeug>=1.0.1 in /usr/local/lib/python3.10/dist-packages (from tensorboard<2.15,>=2.14->tensorflow) (3.0.1)\n",
            "Requirement already satisfied: cachetools<6.0,>=2.0.0 in /usr/local/lib/python3.10/dist-packages (from google-auth<3,>=1.6.3->tensorboard<2.15,>=2.14->tensorflow) (5.3.2)\n",
            "Requirement already satisfied: pyasn1-modules>=0.2.1 in /usr/local/lib/python3.10/dist-packages (from google-auth<3,>=1.6.3->tensorboard<2.15,>=2.14->tensorflow) (0.3.0)\n",
            "Requirement already satisfied: rsa<5,>=3.1.4 in /usr/local/lib/python3.10/dist-packages (from google-auth<3,>=1.6.3->tensorboard<2.15,>=2.14->tensorflow) (4.9)\n",
            "Requirement already satisfied: requests-oauthlib>=0.7.0 in /usr/local/lib/python3.10/dist-packages (from google-auth-oauthlib<1.1,>=0.5->tensorboard<2.15,>=2.14->tensorflow) (1.3.1)\n",
            "Requirement already satisfied: charset-normalizer<4,>=2 in /usr/local/lib/python3.10/dist-packages (from requests<3,>=2.21.0->tensorboard<2.15,>=2.14->tensorflow) (3.3.2)\n",
            "Requirement already satisfied: idna<4,>=2.5 in /usr/local/lib/python3.10/dist-packages (from requests<3,>=2.21.0->tensorboard<2.15,>=2.14->tensorflow) (3.6)\n",
            "Requirement already satisfied: urllib3<3,>=1.21.1 in /usr/local/lib/python3.10/dist-packages (from requests<3,>=2.21.0->tensorboard<2.15,>=2.14->tensorflow) (2.0.7)\n",
            "Requirement already satisfied: certifi>=2017.4.17 in /usr/local/lib/python3.10/dist-packages (from requests<3,>=2.21.0->tensorboard<2.15,>=2.14->tensorflow) (2023.11.17)\n",
            "Requirement already satisfied: MarkupSafe>=2.1.1 in /usr/local/lib/python3.10/dist-packages (from werkzeug>=1.0.1->tensorboard<2.15,>=2.14->tensorflow) (2.1.3)\n",
            "Requirement already satisfied: pyasn1<0.6.0,>=0.4.6 in /usr/local/lib/python3.10/dist-packages (from pyasn1-modules>=0.2.1->google-auth<3,>=1.6.3->tensorboard<2.15,>=2.14->tensorflow) (0.5.1)\n",
            "Requirement already satisfied: oauthlib>=3.0.0 in /usr/local/lib/python3.10/dist-packages (from requests-oauthlib>=0.7.0->google-auth-oauthlib<1.1,>=0.5->tensorboard<2.15,>=2.14->tensorflow) (3.2.2)\n"
          ]
        }
      ],
      "source": [
        "!pip install tensorflow"
      ]
    },
    {
      "cell_type": "code",
      "execution_count": null,
      "id": "39b25401",
      "metadata": {
        "colab": {
          "base_uri": "https://localhost:8080/"
        },
        "id": "39b25401",
        "outputId": "56106fea-dac2-437b-e66c-0a9591909c54"
      },
      "outputs": [
        {
          "name": "stdout",
          "output_type": "stream",
          "text": [
            "Collecting sklearn\n",
            "  Downloading sklearn-0.0.post12.tar.gz (2.6 kB)\n",
            "  \u001b[1;31merror\u001b[0m: \u001b[1msubprocess-exited-with-error\u001b[0m\n",
            "  \n",
            "  \u001b[31m×\u001b[0m \u001b[32mpython setup.py egg_info\u001b[0m did not run successfully.\n",
            "  \u001b[31m│\u001b[0m exit code: \u001b[1;36m1\u001b[0m\n",
            "  \u001b[31m╰─>\u001b[0m See above for output.\n",
            "  \n",
            "  \u001b[1;35mnote\u001b[0m: This error originates from a subprocess, and is likely not a problem with pip.\n",
            "  Preparing metadata (setup.py) ... \u001b[?25l\u001b[?25herror\n",
            "\u001b[1;31merror\u001b[0m: \u001b[1mmetadata-generation-failed\u001b[0m\n",
            "\n",
            "\u001b[31m×\u001b[0m Encountered error while generating package metadata.\n",
            "\u001b[31m╰─>\u001b[0m See above for output.\n",
            "\n",
            "\u001b[1;35mnote\u001b[0m: This is an issue with the package mentioned above, not pip.\n",
            "\u001b[1;36mhint\u001b[0m: See above for details.\n"
          ]
        }
      ],
      "source": [
        "!pip install sklearn"
      ]
    },
    {
      "cell_type": "code",
      "execution_count": null,
      "id": "059f64d1",
      "metadata": {
        "id": "059f64d1"
      },
      "outputs": [],
      "source": [
        "import numpy as np\n",
        "import matplotlib.pyplot as plt\n",
        "import pandas as pd\n",
        "from pathlib import Path\n",
        "import tensorflow as tf\n",
        "from tensorflow.keras.preprocessing import image\n",
        "import keras\n",
        "np.random.seed(42)"
      ]
    },
    {
      "cell_type": "markdown",
      "id": "6d92678e",
      "metadata": {
        "id": "6d92678e"
      },
      "source": [
        "Data preparation"
      ]
    },
    {
      "cell_type": "code",
      "execution_count": null,
      "id": "c6feff8f",
      "metadata": {
        "id": "c6feff8f"
      },
      "outputs": [],
      "source": [
        "#to get name of each class creating dictionary\n",
        "lab_to_name = {\n",
        "                0:'Speed limit (20km/h)',\n",
        "                1:'Speed limit (30km/h)',\n",
        "                2:'Speed limit (50km/h)',\n",
        "                3:'Speed limit (60km/h)',\n",
        "                4:'Speed limit (70km/h)',\n",
        "                5:'Speed limit (80km/h)',\n",
        "                6:'End of speed limit (80km/h)',\n",
        "                7:'Speed limit (100km/h)',\n",
        "                8:'Speed limit (120km/h)',\n",
        "                9:'No passing',\n",
        "                10:'No passing veh over 3.5 tons',\n",
        "                11:'Right-of-way at intersection',\n",
        "                12:'Priority road',\n",
        "                13:'Yield',\n",
        "                14:'Stop',\n",
        "                15:'No vehicles',\n",
        "                16:'Veh > 3.5 tons prohibited',\n",
        "                17:'No entry',\n",
        "                18:'General caution',\n",
        "                19:'Dangerous curve left',\n",
        "                20:'Dangerous curve right',\n",
        "                21:'Double curve',\n",
        "                22:'Bumpy road',\n",
        "                23:'Slippery road',\n",
        "                24:'Road narrows on the right',\n",
        "                25:'Road work',\n",
        "                26:'Traffic signals',\n",
        "                27:'Pedestrians',\n",
        "                28:'Children crossing',\n",
        "                29:'Bicycles crossing',\n",
        "                30:'Beware of ice/snow',\n",
        "                31:'Wild animals crossing',\n",
        "                32:'End speed + passing limits',\n",
        "                33:'Turn right ahead',\n",
        "                34:'Turn left ahead',\n",
        "                35:'Ahead only',\n",
        "                36:'Go straight or right',\n",
        "                37:'Go straight or left',\n",
        "                38:'Keep right',\n",
        "                39:'Keep left',\n",
        "                40:'Roundabout mandatory',\n",
        "                41:'End of no passing',\n",
        "                42:'End no passing veh > 3.5 tons'\n",
        "              }"
      ]
    },
    {
      "cell_type": "code",
      "execution_count": null,
      "id": "8ff6be8b",
      "metadata": {
        "id": "8ff6be8b"
      },
      "outputs": [],
      "source": [
        "######how to get lable from the directory\n",
        "###Converting those strings as the labels\n",
        "### Train\\0  -->>    str(d).split(\"\\\\\")[-1] ---> this gives the last word(number)  thats the label"
      ]
    },
    {
      "cell_type": "code",
      "execution_count": null,
      "id": "1b6d285e",
      "metadata": {
        "colab": {
          "base_uri": "https://localhost:8080/"
        },
        "id": "1b6d285e",
        "outputId": "86cc1e10-f8ed-4144-8921-024601a4bcd0"
      },
      "outputs": [
        {
          "data": {
            "text/plain": [
              "<generator object Path.glob at 0x784279a1bdf0>"
            ]
          },
          "execution_count": 20,
          "metadata": {},
          "output_type": "execute_result"
        }
      ],
      "source": [
        "p = Path('./Train');\n",
        "dirs = p.glob(\"*\");\n",
        "dirs"
      ]
    },
    {
      "cell_type": "code",
      "execution_count": null,
      "id": "97b1b7fc",
      "metadata": {
        "colab": {
          "base_uri": "https://localhost:8080/"
        },
        "id": "97b1b7fc",
        "outputId": "5deeec9c-21d5-4d5c-e64f-3944f311d5a3"
      },
      "outputs": [
        {
          "name": "stdout",
          "output_type": "stream",
          "text": [
            "{}\n"
          ]
        }
      ],
      "source": [
        "lable = []   ##lable array\n",
        "img_data = [] ##input training images as array format\n",
        "count = {}   ##using the dict to count no.of images of each type\n",
        "\n",
        "\n",
        "for folder in dirs:\n",
        "    lables = str(folder).split(\"\\\\\")[-1];\n",
        "\n",
        "    #getting every image path from that folder\n",
        "    cnt = 0;\n",
        "    for img_path in folder.glob(\"*\"):\n",
        "\n",
        "        ##using keras reading the imager\n",
        "        img = image.load_img(img_path,target_size=(40,40));\n",
        "\n",
        "        ##converting img to array\n",
        "        image_data = image.img_to_array(img);\n",
        "\n",
        "        ##append into image_data array\n",
        "        img_data.append(image_data);\n",
        "        cnt+=1;   ##counting no.of images in each sub folder\n",
        "\n",
        "        ##append the ouput label in lables array\n",
        "        lable.append(lables);\n",
        "        #lable1 = lable2name[lable]\n",
        "    count[lab_to_name[int(lables)]] = cnt;\n",
        "\n",
        "print(count);"
      ]
    },
    {
      "cell_type": "code",
      "execution_count": null,
      "id": "dc5a9853",
      "metadata": {
        "colab": {
          "base_uri": "https://localhost:8080/",
          "height": 712
        },
        "id": "dc5a9853",
        "outputId": "c6e912ed-4fc0-49c9-fd6d-0d3e5f5ab59e"
      },
      "outputs": [
        {
          "data": {
            "image/png": "[encoded data removed]",
            "text/plain": [
              "<Figure size 6000x4000 with 1 Axes>"
            ]
          },
          "metadata": {},
          "output_type": "display_data"
        }
      ],
      "source": [
        "#####Plotting the bar graph of counts of images\n",
        "plt.figure(figsize = (60, 40))\n",
        "plt.barh(list(count.keys()),list(count.values()));\n",
        "plt.title(\"Count images of each class: \");\n",
        "plt.xlabel(\"Count\");\n",
        "plt.ylabel(\"Lable/Class\");\n",
        "for index, value in enumerate(list(count.values())):\n",
        "    plt.text(value, index, str(value))"
      ]
    },
    {
      "cell_type": "code",
      "execution_count": null,
      "id": "e4de98e0",
      "metadata": {
        "id": "e4de98e0"
      },
      "outputs": [],
      "source": [
        "x = np.array(img_data);\n",
        "y = np.array(lable);"
      ]
    },
    {
      "cell_type": "code",
      "execution_count": null,
      "id": "0068dbb9",
      "metadata": {
        "colab": {
          "base_uri": "https://localhost:8080/"
        },
        "id": "0068dbb9",
        "outputId": "c826615f-fdfe-4041-f0ae-35ca7f738127"
      },
      "outputs": [
        {
          "data": {
            "text/plain": [
              "(0,)"
            ]
          },
          "execution_count": 24,
          "metadata": {},
          "output_type": "execute_result"
        }
      ],
      "source": [
        "x.shape"
      ]
    },
    {
      "cell_type": "code",
      "execution_count": null,
      "id": "8e026785",
      "metadata": {
        "colab": {
          "base_uri": "https://localhost:8080/"
        },
        "id": "8e026785",
        "outputId": "fdd882a9-90f4-45af-c0b9-69d7a92200a9"
      },
      "outputs": [
        {
          "data": {
            "text/plain": [
              "(0,)"
            ]
          },
          "execution_count": 25,
          "metadata": {},
          "output_type": "execute_result"
        }
      ],
      "source": [
        "y.shape"
      ]
    },
    {
      "cell_type": "code",
      "execution_count": null,
      "id": "add9f576",
      "metadata": {
        "colab": {
          "base_uri": "https://localhost:8080/",
          "height": 52
        },
        "id": "add9f576",
        "outputId": "c9b52600-5648-4119-ba58-cc2b072b13fc"
      },
      "outputs": [
        {
          "name": "stdout",
          "output_type": "stream",
          "text": [
            "x or y is empty. Please check your data.\n"
          ]
        },
        {
          "data": {
            "text/plain": [
              "<Figure size 10000x10000 with 0 Axes>"
            ]
          },
          "metadata": {},
          "output_type": "display_data"
        }
      ],
      "source": [
        "from sklearn.utils import shuffle\n",
        "x,y = shuffle(x,y,random_state=2);\n",
        "plt.figure(figsize = (100, 100))\n",
        "if len(x) > 0 and len(y) > 0:\n",
        "    num_images = min(20, len(x))  # To handle cases where len(x) < 20\n",
        "    for i in range(num_images):\n",
        "        plt.subplot(4, 5, i+1)\n",
        "        plt.imshow(x[i] / 255)\n",
        "        plt.ylabel(lab_to_name[int(y[i])], fontsize=10)  # Adjust fontsize as needed\n",
        "        plt.axis('off')\n",
        "\n",
        "    plt.tight_layout()\n",
        "    plt.show()\n",
        "else:\n",
        "    print(\"x or y is empty. Please check your data.\")\n"
      ]
    },
    {
      "cell_type": "code",
      "execution_count": null,
      "id": "da027400",
      "metadata": {
        "id": "da027400"
      },
      "outputs": [],
      "source": [
        "#Normalizing the X by keeping values bwteen 0 & 1\n",
        "x = x/255.0;\n",
        "x.shape"
      ]
    },
    {
      "cell_type": "code",
      "execution_count": null,
      "id": "382e40be",
      "metadata": {
        "id": "382e40be"
      },
      "outputs": [],
      "source": [
        "from keras.utils import to_categorical\n",
        "y= to_categorical(y);   #changing dimension\n",
        "print(y.shape);"
      ]
    },
    {
      "cell_type": "code",
      "execution_count": null,
      "id": "f18bec61",
      "metadata": {
        "id": "f18bec61"
      },
      "outputs": [],
      "source": [
        "shuffle_indexes = np.arange(x.shape[0])\n",
        "np.random.shuffle(shuffle_indexes)\n",
        "x = x[shuffle_indexes]\n",
        "y = y[shuffle_indexes]\n",
        "print(x.shape);\n",
        "print(y.shape);"
      ]
    },
    {
      "cell_type": "code",
      "execution_count": null,
      "id": "e2d1eee0",
      "metadata": {
        "id": "e2d1eee0"
      },
      "outputs": [],
      "source": [
        "#Splitting the dataset into test and train set\n",
        "\n",
        "from sklearn.model_selection import train_test_split\n",
        "\n",
        "x_train, x_val, y_train, y_val = train_test_split(x, y, test_size=0.3, random_state=25, shuffle=True)\n",
        "\n",
        "\n",
        "\n",
        "print(\"X_train.shape\", x_train.shape)\n",
        "print(\"X_valid.shape\", x_val.shape)\n",
        "print(\"y_train.shape\", y_train.shape)\n",
        "print(\"y_valid.shape\", y_val.shape)"
      ]
    },
    {
      "cell_type": "code",
      "execution_count": null,
      "id": "35aa103a",
      "metadata": {
        "id": "35aa103a"
      },
      "outputs": [],
      "source": [
        "from keras.models import Sequential\n",
        "from keras.layers import Input,Convolution2D,MaxPooling2D,Flatten,Dense,Dropout\n",
        "from tensorflow.keras.preprocessing.image import ImageDataGenerator\n",
        "from tensorflow.keras.optimizers import Adam"
      ]
    },
    {
      "cell_type": "code",
      "execution_count": null,
      "id": "b39cede5",
      "metadata": {
        "id": "b39cede5"
      },
      "outputs": [],
      "source": [
        "model = keras.models.Sequential([\n",
        "    keras.layers.Conv2D(filters=16, kernel_size=(3,3), activation='relu', input_shape=(40,40,3)),\n",
        "    keras.layers.Conv2D(filters=32, kernel_size=(3,3), activation='relu'),\n",
        "    keras.layers.MaxPool2D(pool_size=(2, 2)),\n",
        "    keras.layers.BatchNormalization(axis=-1),\n",
        "\n",
        "    keras.layers.Conv2D(filters=64, kernel_size=(3,3), activation='relu'),\n",
        "    keras.layers.Conv2D(filters=128, kernel_size=(3,3), activation='relu'),\n",
        "    keras.layers.MaxPool2D(pool_size=(2, 2)),\n",
        "    keras.layers.BatchNormalization(axis=-1),\n",
        "\n",
        "    keras.layers.Flatten(),\n",
        "    keras.layers.Dense(256, activation='relu'),\n",
        "    keras.layers.BatchNormalization(),\n",
        "    keras.layers.Dropout(rate=0.4),\n",
        "\n",
        "    keras.layers.Dense(43, activation='softmax')\n",
        "])"
      ]
    },
    {
      "cell_type": "code",
      "execution_count": null,
      "id": "f656a1c2",
      "metadata": {
        "id": "f656a1c2"
      },
      "outputs": [],
      "source": [
        "lr = 0.001    #learning rate\n",
        "epochs = 10   #no.of epochs\n",
        "\n",
        "opt = Adam(lr=lr, decay=lr / (epochs*0.5))\n",
        "model.compile(loss='categorical_crossentropy', optimizer=opt, metrics=['accuracy'])"
      ]
    },
    {
      "cell_type": "code",
      "execution_count": null,
      "id": "a49ee06e",
      "metadata": {
        "id": "a49ee06e"
      },
      "outputs": [],
      "source": [
        "aug = ImageDataGenerator(\n",
        "    rotation_range=10,\n",
        "    zoom_range=0.15,\n",
        "    width_shift_range=0.1,\n",
        "    height_shift_range=0.1,\n",
        "    shear_range=0.15,\n",
        "    horizontal_flip=False,\n",
        "    vertical_flip=False,\n",
        "    fill_mode=\"nearest\"\n",
        ")"
      ]
    },
    {
      "cell_type": "code",
      "execution_count": null,
      "id": "36fb277c",
      "metadata": {
        "id": "36fb277c"
      },
      "outputs": [],
      "source": [
        "hist = model.fit(aug.flow(x_train, y_train, batch_size=128), epochs=epochs, validation_data=(x_val, y_val))"
      ]
    },
    {
      "cell_type": "code",
      "execution_count": null,
      "id": "461103fe",
      "metadata": {
        "id": "461103fe"
      },
      "outputs": [],
      "source": [
        "#Evaluating model ->\n",
        "pd.DataFrame(hist.history).plot(figsize=(10,10))\n",
        "plt.grid(True)\n",
        "plt.gca().set_ylim(0,1)\n",
        "plt.show()"
      ]
    },
    {
      "cell_type": "code",
      "execution_count": null,
      "id": "6658361a",
      "metadata": {
        "id": "6658361a"
      },
      "outputs": [],
      "source": []
    },
    {
      "cell_type": "markdown",
      "id": "31857cc1",
      "metadata": {
        "id": "31857cc1"
      },
      "source": [
        "Predictions on dataset"
      ]
    },
    {
      "cell_type": "code",
      "execution_count": null,
      "id": "b1f7bb7c",
      "metadata": {
        "id": "b1f7bb7c"
      },
      "outputs": [],
      "source": [
        "#reading labels from dataset csv file\n",
        "test = pd.read_csv(\"Test.csv\");\n",
        "print(test.head(5));"
      ]
    },
    {
      "cell_type": "code",
      "execution_count": null,
      "id": "8078771e",
      "metadata": {
        "id": "8078771e"
      },
      "outputs": [],
      "source": [
        "test_labels = test[\"ClassId\"].values\n",
        "test_labels"
      ]
    },
    {
      "cell_type": "code",
      "execution_count": null,
      "id": "fd9dc3c8",
      "metadata": {
        "id": "fd9dc3c8"
      },
      "outputs": [],
      "source": [
        "pt  =  Path(\"./Test\");    #path checking for train folder\n",
        "image_test_data = [];\n",
        "\n",
        "for imgtest in pt.glob(\"*.png\"):\n",
        "\n",
        "    img = image.load_img(imgtest,target_size=(40,40));\n",
        "\n",
        "    img_data = image.img_to_array(img);\n",
        "\n",
        "    image_test_data.append(img_data);\n"
      ]
    },
    {
      "cell_type": "code",
      "execution_count": null,
      "id": "4d1252c4",
      "metadata": {
        "id": "4d1252c4"
      },
      "outputs": [],
      "source": [
        "x_test = np.array(image_test_data);\n",
        "y_actual = np.array(test_labels);\n",
        "x_test = x_test/255;\n",
        "print(x_test.shape);\n",
        "print(y_actual.shape);"
      ]
    },
    {
      "cell_type": "code",
      "execution_count": null,
      "id": "c7bedb04",
      "metadata": {
        "id": "c7bedb04"
      },
      "outputs": [],
      "source": [
        "#predicting the data with model\n",
        "\n",
        "y_pred = np.argmax(model.predict(x_test), axis=1);"
      ]
    },
    {
      "cell_type": "code",
      "execution_count": null,
      "id": "57d6e2db",
      "metadata": {
        "id": "57d6e2db"
      },
      "outputs": [],
      "source": [
        "#Accuracy\n",
        "from sklearn.metrics import accuracy_score\n",
        "print('Test Data Accuracy: ',accuracy_score(y_actual, y_pred)*100)"
      ]
    },
    {
      "cell_type": "code",
      "execution_count": null,
      "id": "d437ff1d",
      "metadata": {
        "id": "d437ff1d"
      },
      "outputs": [],
      "source": [
        "from sklearn.metrics import classification_report\n",
        "print(classification_report(y_actual,y_pred))"
      ]
    },
    {
      "cell_type": "code",
      "execution_count": null,
      "id": "d58d31bb",
      "metadata": {
        "id": "d58d31bb"
      },
      "outputs": [],
      "source": [
        "# Constructing the confusion matrix.\n",
        "from sklearn.metrics import confusion_matrix\n",
        "cf_matrix = confusion_matrix(y_actual, y_pred)\n",
        "print(cf_matrix);"
      ]
    },
    {
      "cell_type": "code",
      "execution_count": null,
      "id": "ec3afb4b",
      "metadata": {
        "id": "ec3afb4b"
      },
      "outputs": [],
      "source": [
        "#predction on test images\n",
        "plt.figure(figsize = (50,40))\n",
        "\n",
        "start_index = 0;\n",
        "for i in range(20):\n",
        "  plt.subplot(5,4,i+1)\n",
        "  plt.grid(False)\n",
        "  plt.xticks([])\n",
        "  plt.yticks([])\n",
        "  prediction = y_pred[start_index + i]\n",
        "  actual = y_actual[start_index + i]\n",
        "  col = 'g'     #if prediction is right\n",
        "  if prediction != actual:\n",
        "    col = 'r'   #if prediction is wrong\n",
        "  plt.xlabel('Actual={} || Pred={}'.format(actual, prediction), color = col)\n",
        "  plt.imshow(x_test[start_index + i])\n",
        "plt.show()"
      ]
    },
    {
      "cell_type": "code",
      "execution_count": null,
      "id": "bda05964",
      "metadata": {
        "id": "bda05964"
      },
      "outputs": [],
      "source": []
    }
  ],
  "metadata": {
    "colab": {
      "provenance": []
    },
    "kernelspec": {
      "display_name": "Python 3 (ipykernel)",
      "language": "python",
      "name": "python3"
    },
    "language_info": {
      "codemirror_mode": {
        "name": "ipython",
        "version": 3
      },
      "file_extension": ".py",
      "mimetype": "text/x-python",
      "name": "python",
      "nbconvert_exporter": "python",
      "pygments_lexer": "ipython3",
      "version": "3.9.7"
    }
  },
  "nbformat": 4,
  "nbformat_minor": 5
}
